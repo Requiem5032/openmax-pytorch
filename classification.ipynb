{
 "cells": [
  {
   "cell_type": "code",
   "execution_count": null,
   "metadata": {},
   "outputs": [],
   "source": [
    "import os\n",
    "import torch\n",
    "import pandas as pd\n",
    "\n",
    "from functools import partial\n",
    "\n",
    "from utils.losses import MosLoss\n",
    "from utils.model_list import xception\n",
    "from utils.data_loader import get_data_loaders\n",
    "from utils.configs import config\n",
    "from utils.metrics import accuracy, macro_f1\n",
    "\n",
    "from fastai.vision.all import *\n",
    "from fastai.callback.tracker import SaveModelCallback\n",
    "from fastai.distributed import setup_distrib, num_distrib"
   ]
  },
  {
   "cell_type": "code",
   "execution_count": null,
   "metadata": {},
   "outputs": [],
   "source": [
    "device = torch.device('cuda:0')"
   ]
  },
  {
   "cell_type": "code",
   "execution_count": null,
   "metadata": {},
   "outputs": [],
   "source": [
    "print(device)"
   ]
  },
  {
   "cell_type": "code",
   "execution_count": null,
   "metadata": {},
   "outputs": [],
   "source": [
    "def get_class_map(df):\n",
    "    class_map = {}\n",
    "    for i in range(len(df)):\n",
    "        class_map[df.loc[i, 'Species']] = df.loc[i, 'Species_Name']\n",
    "    return class_map"
   ]
  },
  {
   "cell_type": "code",
   "execution_count": null,
   "metadata": {},
   "outputs": [],
   "source": [
    "cm = get_class_map(pd.read_csv(config.DATA_CSV_PATH))\n",
    "for i in range(len(cm)):\n",
    "    print(i, \": \", cm[i])\n",
    "print(len(cm))"
   ]
  },
  {
   "cell_type": "code",
   "execution_count": null,
   "metadata": {},
   "outputs": [],
   "source": [
    "model_params = [config.fold]\n",
    "MODEL_CKPT = os.path.abspath('model_weights/fold_{}/'.format(*model_params))"
   ]
  },
  {
   "cell_type": "code",
   "execution_count": null,
   "metadata": {},
   "outputs": [],
   "source": [
    "net = xception(config=config)"
   ]
  },
  {
   "cell_type": "code",
   "execution_count": null,
   "metadata": {},
   "outputs": [],
   "source": [
    "gpu = setup_distrib(config.gpu)\n",
    "opt = config.optimizer\n",
    "mom = config.mom\n",
    "alpha = config.alpha\n",
    "eps = config.eps"
   ]
  },
  {
   "cell_type": "code",
   "execution_count": null,
   "metadata": {},
   "outputs": [],
   "source": [
    "# opt_func = partial(Adam, mom=mom, sqr_mom=alpha, eps=eps)\n",
    "opt_func = partial(ranger, mom=mom, alpha=alpha, eps=eps)"
   ]
  },
  {
   "cell_type": "code",
   "execution_count": null,
   "metadata": {},
   "outputs": [],
   "source": [
    "train_dl, valid_dl = get_data_loaders(config)"
   ]
  },
  {
   "cell_type": "code",
   "execution_count": null,
   "metadata": {},
   "outputs": [],
   "source": [
    "dls = DataLoaders(train_dl, valid_dl)"
   ]
  },
  {
   "cell_type": "code",
   "execution_count": null,
   "metadata": {},
   "outputs": [],
   "source": [
    "loss = MosLoss(config=config)\n",
    "freeze_bn = False\n",
    "save_imgs = False\n",
    "train_losses = []\n",
    "valid_losses = []\n",
    "valid_f1s = []\n",
    "lr_hist = []\n",
    "metrics = [accuracy, macro_f1]"
   ]
  },
  {
   "cell_type": "code",
   "execution_count": null,
   "metadata": {},
   "outputs": [],
   "source": [
    "learn = Learner(\n",
    "    dls,\n",
    "    net,\n",
    "    wd=config.weight_decay,\n",
    "    opt_func=opt_func,\n",
    "    metrics=metrics,\n",
    "    loss_func=loss,\n",
    "    model_dir=MODEL_CKPT,\n",
    "    path=f'model_weights/fold_{config.fold}'\n",
    ")\n",
    "\n",
    "if gpu is None:\n",
    "    learn.to_parallel()\n",
    "elif num_distrib() > 1:\n",
    "    learn.to_distributed(gpu)\n",
    "\n",
    "cb = SaveModelCallback(monitor='macro_f1')"
   ]
  },
  {
   "cell_type": "code",
   "execution_count": null,
   "metadata": {},
   "outputs": [],
   "source": [
    "learn.fit_one_cycle(\n",
    "    config.epochs,\n",
    "    config.lr,\n",
    "    div=10.0,\n",
    "    pct_start=0.3,\n",
    "    cbs=[cb],\n",
    ")"
   ]
  }
 ],
 "metadata": {
  "kernelspec": {
   "display_name": ".venv",
   "language": "python",
   "name": "python3"
  },
  "language_info": {
   "codemirror_mode": {
    "name": "ipython",
    "version": 3
   },
   "file_extension": ".py",
   "mimetype": "text/x-python",
   "name": "python",
   "nbconvert_exporter": "python",
   "pygments_lexer": "ipython3",
   "version": "3.11.2"
  }
 },
 "nbformat": 4,
 "nbformat_minor": 2
}
