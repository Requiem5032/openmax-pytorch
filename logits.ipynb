{
 "cells": [
  {
   "cell_type": "code",
   "execution_count": null,
   "metadata": {},
   "outputs": [],
   "source": [
    "import os\n",
    "import torch\n",
    "import numpy as np\n",
    "import pandas as pd\n",
    "\n",
    "from utils.configs import config\n",
    "from utils.data_loader import get_test_loader, get_data_loaders\n",
    "from utils.model_list import xception\n",
    "from torchvision.models.feature_extraction import create_feature_extractor, get_graph_node_names"
   ]
  },
  {
   "cell_type": "code",
   "execution_count": null,
   "metadata": {},
   "outputs": [],
   "source": [
    "device = torch.device('cpu')"
   ]
  },
  {
   "cell_type": "code",
   "execution_count": null,
   "metadata": {},
   "outputs": [],
   "source": [
    "model_params = [config.fold]\n",
    "MODEL_CKPT = os.path.abspath('model_weights/fold_{}/'.format(*model_params))"
   ]
  },
  {
   "cell_type": "code",
   "execution_count": null,
   "metadata": {},
   "outputs": [],
   "source": [
    "net = xception(config=config)"
   ]
  },
  {
   "cell_type": "code",
   "execution_count": null,
   "metadata": {},
   "outputs": [],
   "source": [
    "net.load_state_dict(torch.load(f'model_weights/fold_{config.fold}/best_f1.pth')['model'])"
   ]
  },
  {
   "cell_type": "code",
   "execution_count": null,
   "metadata": {},
   "outputs": [],
   "source": [
    "net.to(device)\n",
    "net.eval()"
   ]
  },
  {
   "cell_type": "code",
   "execution_count": null,
   "metadata": {},
   "outputs": [],
   "source": [
    "train_dl, valid_dl = get_data_loaders(config, get_dataset=False, one_hot_labels=config.one_hot_labels)"
   ]
  },
  {
   "cell_type": "code",
   "execution_count": null,
   "metadata": {},
   "outputs": [],
   "source": [
    "def get_correct_classified(y_true, y_hat):\n",
    "    y_true = np.asarray(y_true)\n",
    "    y_hat = np.argmax(y_hat, axis=1)\n",
    "    res = y_hat == y_true\n",
    "    return res"
   ]
  },
  {
   "cell_type": "code",
   "execution_count": null,
   "metadata": {},
   "outputs": [],
   "source": [
    "logits_correct = []\n",
    "label_correct = []\n",
    "with torch.no_grad():\n",
    "    for minibatch in valid_dl:\n",
    "        x, y = minibatch\n",
    "        out = net(x).detach().numpy()\n",
    "        y = np.asarray(y)\n",
    "        correct_index = get_correct_classified(y, out)\n",
    "\n",
    "        out_correct = out[correct_index]\n",
    "        y_out_correct = y[correct_index]\n",
    "\n",
    "        for logits, label in zip(out_correct, y_out_correct):\n",
    "            logits_correct.append(logits)\n",
    "            label_correct.append(label)\n",
    "\n",
    "logits_correct = np.asarray(logits_correct)\n",
    "label_correct = np.asarray(label_correct)"
   ]
  },
  {
   "cell_type": "code",
   "execution_count": null,
   "metadata": {},
   "outputs": [],
   "source": [
    "av_map = {}\n",
    "for label in range(config.num_species.sum()):\n",
    "    av_map[label] = logits_correct[label_correct == label]"
   ]
  },
  {
   "cell_type": "code",
   "execution_count": null,
   "metadata": {},
   "outputs": [],
   "source": [
    "av_map"
   ]
  }
 ],
 "metadata": {
  "kernelspec": {
   "display_name": ".venv",
   "language": "python",
   "name": "python3"
  },
  "language_info": {
   "codemirror_mode": {
    "name": "ipython",
    "version": 3
   },
   "file_extension": ".py",
   "mimetype": "text/x-python",
   "name": "python",
   "nbconvert_exporter": "python",
   "pygments_lexer": "ipython3",
   "version": "3.11.2"
  }
 },
 "nbformat": 4,
 "nbformat_minor": 2
}
