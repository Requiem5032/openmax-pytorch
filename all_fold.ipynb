{
 "cells": [
  {
   "cell_type": "code",
   "execution_count": 1,
   "metadata": {},
   "outputs": [],
   "source": [
    "import pandas as pd\n",
    "import numpy as np"
   ]
  },
  {
   "cell_type": "code",
   "execution_count": 2,
   "metadata": {},
   "outputs": [
    {
     "name": "stderr",
     "output_type": "stream",
     "text": [
      "/tmp/ipykernel_38854/2641227473.py:14: RuntimeWarning: invalid value encountered in divide\n",
      "  pre = np.diag(tmp_cm) / np.sum(tmp_cm, axis=0)\n",
      "/tmp/ipykernel_38854/2641227473.py:19: RuntimeWarning: invalid value encountered in divide\n",
      "  f1 = (2*pre*rec) / (pre+rec)\n"
     ]
    }
   ],
   "source": [
    "df_dict = {}\n",
    "species_list = []\n",
    "f1_list = []\n",
    "\n",
    "for fold in range(1, 6):\n",
    "    file_path = f'results/cm_fold_{fold}.csv'\n",
    "    df_dict[file_path] = pd.read_csv(file_path, index_col=0)\n",
    "\n",
    "    tmp_cm = df_dict[file_path].to_numpy()\n",
    "    if fold == 2:\n",
    "        tmp_cm = np.delete(tmp_cm, 10, axis=0)\n",
    "        tmp_cm = np.delete(tmp_cm, 10, axis=1)\n",
    "\n",
    "    pre = np.diag(tmp_cm) / np.sum(tmp_cm, axis=0)\n",
    "    rec = np.diag(tmp_cm) / np.sum(tmp_cm, axis=1)\n",
    "    pre = np.nan_to_num(pre)\n",
    "    rec = np.nan_to_num(pre)\n",
    "\n",
    "    f1 = (2*pre*rec) / (pre+rec)\n",
    "    f1 = np.nan_to_num(f1)\n",
    "    f1_mean = np.mean(f1)\n",
    "    f1_list.append(f1_mean)\n",
    "\n",
    "    for species in df_dict[file_path].columns:\n",
    "        if species.capitalize() not in species_list:\n",
    "            species_list.append(species.capitalize())\n",
    "\n",
    "    species_list = sorted(species_list)"
   ]
  },
  {
   "cell_type": "code",
   "execution_count": 3,
   "metadata": {},
   "outputs": [
    {
     "data": {
      "text/plain": [
       "0.8888463465921713"
      ]
     },
     "execution_count": 3,
     "metadata": {},
     "output_type": "execute_result"
    }
   ],
   "source": [
    "np.mean(f1_list)"
   ]
  }
 ],
 "metadata": {
  "kernelspec": {
   "display_name": ".venv",
   "language": "python",
   "name": "python3"
  },
  "language_info": {
   "codemirror_mode": {
    "name": "ipython",
    "version": 3
   },
   "file_extension": ".py",
   "mimetype": "text/x-python",
   "name": "python",
   "nbconvert_exporter": "python",
   "pygments_lexer": "ipython3",
   "version": "3.10.14"
  }
 },
 "nbformat": 4,
 "nbformat_minor": 2
}
